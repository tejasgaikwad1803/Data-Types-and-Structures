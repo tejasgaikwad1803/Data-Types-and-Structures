{
  "nbformat": 4,
  "nbformat_minor": 0,
  "metadata": {
    "colab": {
      "provenance": []
    },
    "kernelspec": {
      "name": "python3",
      "display_name": "Python 3"
    },
    "language_info": {
      "name": "python"
    }
  },
  "cells": [
    {
      "cell_type": "markdown",
      "source": [
        "# Data Structure\n"
      ],
      "metadata": {
        "id": "GGv6ncItER-y"
      }
    },
    {
      "cell_type": "markdown",
      "source": [
        "1.What are data structures, and why are they important?\n",
        "\n",
        "  ->  Data Structures are ways to store and organize data in a computer so it can be used efficiently.\n",
        "\n",
        "  Importance :\n",
        "\n",
        "  Makes data access, search, and modification faster.\n",
        "\n",
        "  Helps solve problems efficiently.\n",
        "\n",
        "  Used in algorithms, databases, AI, etc.\n",
        "\n",
        "\n",
        "\n",
        "2.Explain the difference between mutable and immutable data types with examples?\n",
        "\n",
        "  ->  Mutable: Can be changed after creation.\n",
        "\n",
        "  Immutable: Cannot be changed after creation.\n",
        "\n",
        "  ex.Mutable: list, dict, set\n",
        "\n",
        "  ex.Immutable : int, float, str, tuple\n",
        "\n",
        "3.What are the main differences between lists and tuples in Python?\n",
        "\n",
        "\n",
        "  -> In Python, lists are mutable (changeable) and use [], while tuples are immutable (unchangeable) and use (). Lists are used for dynamic data, and tuples for fixed, faster data storage.\n",
        "\n",
        "4.Describe how dictionaries store data?\n",
        "\n",
        "  -> In Python, dictionaries store data as key-value pairs. Each key is unique and maps to a specific value. This allows for fast data lookup using the key, rather than searching through the entire data.\n",
        "\n",
        "5.Why might you use a set instead of a list in Python?\n",
        "\n",
        "  ->  list in Python when you want to store unique items only and perform fast membership checks. Sets automatically remove duplicates and are faster than lists for checking if an item exists. However, sets are unordered, so you should use them when the order of elements doesn't matter and duplicates are not allowed.\n",
        "\n",
        "6.What is a string in Python, and how is it different from a list?\n",
        "\n",
        "  -> In Python, a string is a sequence of characters enclosed in quotes (' ' or \" \"), used to store text. A list, on the other hand, is a sequence that can hold multiple data types, including strings, numbers, or even other lists.\n",
        "\n",
        "\n",
        "7.how do tuples ensure data integrity in Python?\n",
        "\n",
        "  -> In Python, tuples ensure data integrity because they are immutable, meaning their contents cannot be changed after creation. This prevents accidental modification of data, making tuples ideal for storing constant or protected data.\n",
        "\n",
        "8.What is a hash table, and how does it relate to dictionaries in Python?\n",
        "\n",
        "  -> A hash table is a data structure that stores data using a key-value pair and uses a hash function to compute an index (called a hash) where the value is stored. It allows for fast data access, insertion, and deletion.\n",
        "\n",
        "\n",
        "9.Can lists contain different data types in Python?\n",
        "\n",
        "  -> Python lists are heterogeneous, meaning you can store integers, strings, floats, other lists, or even objects all in the same list.\n",
        "\n",
        "10.Explain why strings are immutable in Python?\n",
        "\n",
        "  -> In Python, strings are immutable, meaning they cannot be changed after they are created.\n",
        "\n",
        "  Safe: Prevents accidental changes.\n",
        "\n",
        "Fast: Improves speed and memory use.\n",
        "\n",
        "Hashable: Can be used as dictionary keys.\n",
        "\n",
        "11.What advantages do dictionaries offer over lists for certain tasks?\n",
        "\n",
        "\n",
        "  -> You need fast access using keys.\n",
        "\n",
        "You want to store key-value pairs (like name and age).\n",
        "\n",
        "You need clearer, more readable code.\n",
        "\n",
        "You want unique keys to avoid duplicate entries.\n",
        "\n",
        "12.Describe a scenario where using a tuple would be preferable over a list?\n",
        "\n",
        "  -> A tuple is preferable over a list when you want to store fixed data that should not change.\n",
        "\n",
        "  The date of birth is permanent.\n",
        "\n",
        "Tuples are faster and more memory efficient.\n",
        "\n",
        "Prevents accidental changes.\n",
        "\n",
        "13.How do sets handle duplicate values in Python?\n",
        "\n",
        "  -> In Python, sets automatically remove duplicate values. When you add items to a set, only unique elements are kept.\n",
        "\n",
        "14.How does the “in” keyword work differently for lists and dictionaries?\n",
        "\n",
        "  -> List : checks if a value is inside the list\n",
        "\n",
        "  Dictionary : checks if a key is inside the dictionary (not the value)\n",
        "\n",
        "15.Can you modify the elements of a tuple? Explain why or why not.?\n",
        "\n",
        "  -> no tuple are immutable once created their items can't be changed, added or removed\n",
        "\n",
        "\n",
        "16.What is a nested dictionary, and give an example of its use case?\n",
        "\n",
        "  -> A nested dictionary is a dictionary inside another dictionary. It lets you store related data in a structured way — like storing multiple records with their own key-value pairs.\n",
        "\n",
        "  students = {\n",
        "\n",
        "  \"101\": {\"name\": \"Tejas\", \"age\": 21},\n",
        "\n",
        "  \"102\": {\"name\": \"Asha\", \"age\": 22}\n",
        "\n",
        "}\n",
        "\n",
        "print(students[\"101\"][\"name\"])  # Output: Tejas\n",
        "\n",
        "17.Describe the time complexity of accessing elements in a dictionary?\n",
        "\n",
        "  -> Average Case: O(1) → Constant time\n",
        "Accessing a value by key is very fast due to hashing.\n",
        "\n",
        "Worst Case: O(n)\n",
        "Can happen if there are many hash collisions, but it's very rare in practice.\n",
        "\n",
        "18.In what situations are lists preferred over dictionaries?\n",
        "\n",
        "  -> Use a list when the order of elements is important (e.g., a to-do list or sequence of steps).\n",
        "\n",
        "  When storing a simple set of items (e.g., numbers, names) without needing keys.\n",
        "\n",
        "  If you need to access items by position/index, lists are better.\n",
        "\n",
        "19.Why are dictionaries considered unordered, and how does that affect data retrieval?\n",
        "\n",
        "  ->In Python versions before 3.7, dictionaries did not maintain the insertion order of items. This means the order in which you added key-value pairs wasn’t guaranteed to be preserved.\n",
        "\n",
        "20.Explain the difference between a list and a dictionary in terms of data retrieval?\n",
        "\n",
        "  -> list : get items by index number (0,1)\n",
        "     dictionary : get items by key(\"name\") keys make look ups faster and more descriptive\n",
        "\n",
        "\n",
        "\n",
        "\n",
        "\n",
        "\n",
        "\n",
        "\n"
      ],
      "metadata": {
        "id": "NIWJBal-EYXg"
      }
    },
    {
      "cell_type": "code",
      "source": [
        "# 1.Write a code to create a string with your name and print it?\n",
        "my_name = \"Tejas Gaikwad\"\n",
        "my_name"
      ],
      "metadata": {
        "id": "yeO5pQE1aWJe",
        "colab": {
          "base_uri": "https://localhost:8080/",
          "height": 36
        },
        "outputId": "4fc7329e-2e4e-45fb-9ce0-e7e18a9df5b3"
      },
      "execution_count": null,
      "outputs": [
        {
          "output_type": "execute_result",
          "data": {
            "text/plain": [
              "'Tejas Gaikwad'"
            ],
            "application/vnd.google.colaboratory.intrinsic+json": {
              "type": "string"
            }
          },
          "metadata": {},
          "execution_count": 15
        }
      ]
    },
    {
      "cell_type": "code",
      "source": [
        "#2. Write a code to find the length of the string \"Hello World\"?\n",
        "\n",
        "text = \"Hello World\"\n",
        "\n",
        "length = len(text)\n",
        "print(\"Length of the string is:\", length)\n"
      ],
      "metadata": {
        "id": "kq-hO0JNKbkK",
        "colab": {
          "base_uri": "https://localhost:8080/"
        },
        "outputId": "b6a303b7-5517-4f5a-c553-e38660fa9f17"
      },
      "execution_count": null,
      "outputs": [
        {
          "output_type": "stream",
          "name": "stdout",
          "text": [
            "Length of the string is: 11\n"
          ]
        }
      ]
    },
    {
      "cell_type": "code",
      "source": [
        "#3.Write a code to slice the first 3 characters from the string \"Python Programming\"\n",
        "\n",
        "text = \"Python Programming\"\n",
        "sliced = text[:3]\n",
        "print(\"First 3 characters:\", sliced)\n"
      ],
      "metadata": {
        "id": "T46nQPTIK0qO",
        "colab": {
          "base_uri": "https://localhost:8080/"
        },
        "outputId": "3500c89c-4571-409a-d5fd-d5205826d5b8"
      },
      "execution_count": null,
      "outputs": [
        {
          "output_type": "stream",
          "name": "stdout",
          "text": [
            "First 3 characters: Pyt\n"
          ]
        }
      ]
    },
    {
      "cell_type": "code",
      "source": [
        "\n",
        "#4.Write a code to convert the string \"hello\" to uppercase\n",
        "\n",
        "\n",
        "text = \"hello\"\n",
        "\n",
        "uppercase_text = text.upper()\n",
        "\n",
        "print(\"Uppercase:\", uppercase_text)"
      ],
      "metadata": {
        "colab": {
          "base_uri": "https://localhost:8080/"
        },
        "id": "ZnmtiwLLLSjt",
        "outputId": "f4fe56a2-3fd4-4e81-c125-8b6b36ab6c12"
      },
      "execution_count": null,
      "outputs": [
        {
          "output_type": "stream",
          "name": "stdout",
          "text": [
            "Uppercase: HELLO\n"
          ]
        }
      ]
    },
    {
      "cell_type": "code",
      "source": [
        "#5.Write a code to replace the word \"apple\" with \"orange\" in the string \"I like apple\"\n",
        "\n",
        "text = \"I like apple\"\n",
        "new_text = text.replace(\"apple\", \"orange\")\n",
        "print(\"Updated string:\", new_text)"
      ],
      "metadata": {
        "colab": {
          "base_uri": "https://localhost:8080/"
        },
        "id": "zUZaOhJBLWDK",
        "outputId": "38871d66-eee4-4e97-9149-f6a94fc9306d"
      },
      "execution_count": null,
      "outputs": [
        {
          "output_type": "stream",
          "name": "stdout",
          "text": [
            "Updated string: I like orange\n"
          ]
        }
      ]
    },
    {
      "cell_type": "code",
      "source": [
        "#6. Write a code to create a list with numbers 1 to 5 and print it.\n",
        "\n",
        "numbers = [1, 2, 3, 4, 5]\n",
        "print(\"List of numbers:\", numbers)"
      ],
      "metadata": {
        "colab": {
          "base_uri": "https://localhost:8080/"
        },
        "id": "WP4v-b4hLayO",
        "outputId": "b5162048-9817-4e79-bf5a-334182244bdb"
      },
      "execution_count": null,
      "outputs": [
        {
          "output_type": "stream",
          "name": "stdout",
          "text": [
            "List of numbers: [1, 2, 3, 4, 5]\n"
          ]
        }
      ]
    },
    {
      "cell_type": "code",
      "source": [
        "#7.Write a code to append the number 10 to the list [1, 2, 3, 4]\n",
        "\n",
        "num =[1, 2, 3, 4]\n",
        "num.append(10)\n",
        "print(\"Updated list:\", num)"
      ],
      "metadata": {
        "colab": {
          "base_uri": "https://localhost:8080/"
        },
        "id": "NezcLGf_Lc2X",
        "outputId": "c2bb754d-42ca-4c54-f67d-a8e49c883e51"
      },
      "execution_count": null,
      "outputs": [
        {
          "output_type": "stream",
          "name": "stdout",
          "text": [
            "Updated list: [1, 2, 3, 4, 10]\n"
          ]
        }
      ]
    },
    {
      "cell_type": "code",
      "source": [
        "#8.Write a code to remove the number 3 from the list [1, 2, 3, 4, 5]\n",
        "\n",
        "numbers = [1, 2, 3, 4, 5]\n",
        "numbers.remove(3)\n",
        "\n",
        "print(\"Updated list:\", numbers)"
      ],
      "metadata": {
        "colab": {
          "base_uri": "https://localhost:8080/"
        },
        "id": "k2Fkh_iYLh6K",
        "outputId": "f52db2d5-c3fa-4b04-e3fa-ed96e236d244"
      },
      "execution_count": null,
      "outputs": [
        {
          "output_type": "stream",
          "name": "stdout",
          "text": [
            "Updated list: [1, 2, 4, 5]\n"
          ]
        }
      ]
    },
    {
      "cell_type": "code",
      "source": [
        "#9. Write a code to access the second element in the list ['a', 'b', 'c', 'd']\n",
        "\n",
        "\n",
        "letters = ['a', 'b', 'c', 'd']\n",
        "second_element = letters[1]\n",
        "\n",
        "print(\"Second element:\", second_element)"
      ],
      "metadata": {
        "colab": {
          "base_uri": "https://localhost:8080/"
        },
        "id": "PIhLfPsfLjj8",
        "outputId": "99960414-d659-454d-bc81-e6aafb0ba182"
      },
      "execution_count": null,
      "outputs": [
        {
          "output_type": "stream",
          "name": "stdout",
          "text": [
            "Second element: b\n"
          ]
        }
      ]
    },
    {
      "cell_type": "code",
      "source": [
        "#10.Write a code to reverse the list [10, 20, 30, 40, 50].\n",
        "\n",
        "numbers = [10, 20, 30, 40, 50]\n",
        "numbers.reverse()\n",
        "print(\"Reversed list:\", numbers)"
      ],
      "metadata": {
        "colab": {
          "base_uri": "https://localhost:8080/"
        },
        "id": "8rLBxbyxLnlo",
        "outputId": "68ee4e9e-7962-4baf-a520-62c7ec319ff7"
      },
      "execution_count": null,
      "outputs": [
        {
          "output_type": "stream",
          "name": "stdout",
          "text": [
            "Reversed list: [50, 40, 30, 20, 10]\n"
          ]
        }
      ]
    },
    {
      "cell_type": "code",
      "source": [
        "\n",
        "#11. Write a code to create a tuple with the elements 100, 200, 300 and print it.\n",
        "t = (100, 200, 300)\n",
        "print(t)\n"
      ],
      "metadata": {
        "colab": {
          "base_uri": "https://localhost:8080/"
        },
        "id": "ssH-6mRDLqZV",
        "outputId": "b40285aa-3b17-4283-c2dd-c82087e4611c"
      },
      "execution_count": null,
      "outputs": [
        {
          "output_type": "stream",
          "name": "stdout",
          "text": [
            "(100, 200, 300)\n"
          ]
        }
      ]
    },
    {
      "cell_type": "code",
      "source": [
        "#12.Write a code to access the second-to-last element of the tuple ('red', 'green', 'blue', 'yellow').\n",
        "colors = ('red', 'green', 'blue', 'yellow')\n",
        "print(colors[-2])"
      ],
      "metadata": {
        "colab": {
          "base_uri": "https://localhost:8080/"
        },
        "id": "N2hbLljPLqjn",
        "outputId": "82b3a8c1-4814-4149-ca72-98ca6167b856"
      },
      "execution_count": null,
      "outputs": [
        {
          "output_type": "stream",
          "name": "stdout",
          "text": [
            "blue\n"
          ]
        }
      ]
    },
    {
      "cell_type": "code",
      "source": [
        "\n",
        "#13. Write a code to find the minimum number in the tuple (10, 20, 5, 15).\n",
        "t = (10, 20, 5, 15)\n",
        "print(min(t))"
      ],
      "metadata": {
        "colab": {
          "base_uri": "https://localhost:8080/"
        },
        "id": "_NGg61GRLqnG",
        "outputId": "055d1927-a381-431c-db87-b141c074c812"
      },
      "execution_count": null,
      "outputs": [
        {
          "output_type": "stream",
          "name": "stdout",
          "text": [
            "5\n"
          ]
        }
      ]
    },
    {
      "cell_type": "code",
      "source": [
        "#14. Write a code to find the index of the element \"cat\" in the tuple ('dog', 'cat', 'rabbit').\n",
        "animals = ('dog', 'cat', 'rabbit')\n",
        "print(animals.index('cat'))"
      ],
      "metadata": {
        "colab": {
          "base_uri": "https://localhost:8080/"
        },
        "id": "v5VUlQM7Lqsn",
        "outputId": "cf5189a9-2376-4fa2-e553-9c441b3d0de8"
      },
      "execution_count": null,
      "outputs": [
        {
          "output_type": "stream",
          "name": "stdout",
          "text": [
            "1\n"
          ]
        }
      ]
    },
    {
      "cell_type": "code",
      "source": [
        "#15. Write a code to create a tuple containing three different fruits and check if \"kiwi\" is in it\n",
        "fruits = ('apple', 'banana', 'kiwi')\n",
        "print('kiwi' in fruits)"
      ],
      "metadata": {
        "colab": {
          "base_uri": "https://localhost:8080/"
        },
        "id": "ALQ3LPcwLqvw",
        "outputId": "e6e78a76-3399-4dc8-ee39-07667f44b82f"
      },
      "execution_count": null,
      "outputs": [
        {
          "output_type": "stream",
          "name": "stdout",
          "text": [
            "True\n"
          ]
        }
      ]
    },
    {
      "cell_type": "code",
      "source": [
        "#16.Write a code to create a set with the elements 'a', 'b', 'c' and print it\n",
        "s = {'a', 'b', 'c'}\n",
        "print(s)"
      ],
      "metadata": {
        "colab": {
          "base_uri": "https://localhost:8080/"
        },
        "id": "xVmk-zK5Lqyo",
        "outputId": "0b1c9833-8ceb-4a77-f85b-9828b3ebb3d8"
      },
      "execution_count": null,
      "outputs": [
        {
          "output_type": "stream",
          "name": "stdout",
          "text": [
            "{'b', 'c', 'a'}\n"
          ]
        }
      ]
    },
    {
      "cell_type": "code",
      "source": [
        "#17.. Write a code to clear all elements from the set {1, 2, 3, 4, 5}.\n",
        "s = {1, 2, 3, 4, 5}\n",
        "s.clear()\n",
        "print(s)"
      ],
      "metadata": {
        "colab": {
          "base_uri": "https://localhost:8080/"
        },
        "id": "hDsFGKCOLq1i",
        "outputId": "62faf74e-f268-4194-f5d4-06271edafbb7"
      },
      "execution_count": null,
      "outputs": [
        {
          "output_type": "stream",
          "name": "stdout",
          "text": [
            "set()\n"
          ]
        }
      ]
    },
    {
      "cell_type": "code",
      "source": [
        "#18. Write a code to remove the element 4 from the set {1, 2, 3, 4}.\n",
        "s = {1, 2, 3, 4}\n",
        "s.remove(4)\n",
        "print(s)"
      ],
      "metadata": {
        "colab": {
          "base_uri": "https://localhost:8080/"
        },
        "id": "ZihyZ4WNLq4X",
        "outputId": "37031ae3-bcdc-4b4f-e57c-45562ebac876"
      },
      "execution_count": null,
      "outputs": [
        {
          "output_type": "stream",
          "name": "stdout",
          "text": [
            "{1, 2, 3}\n"
          ]
        }
      ]
    },
    {
      "cell_type": "code",
      "source": [
        "#19. Write a code to find the union of two sets {1, 2, 3} and {3, 4, 5}.\n",
        "a = {1, 2, 3}\n",
        "b = {3, 4, 5}\n",
        "print(a.union(b))\n"
      ],
      "metadata": {
        "colab": {
          "base_uri": "https://localhost:8080/"
        },
        "id": "buaWTMXALq7T",
        "outputId": "9d9bc4b3-80ca-4d17-d502-d050f2a11f78"
      },
      "execution_count": null,
      "outputs": [
        {
          "output_type": "stream",
          "name": "stdout",
          "text": [
            "{1, 2, 3, 4, 5}\n"
          ]
        }
      ]
    },
    {
      "cell_type": "code",
      "source": [
        "#20.Write a code to find the intersection of two sets {1, 2, 3} and {2, 3, 4}.\n",
        "a = {1, 2, 3}\n",
        "b = {2, 3, 4}\n",
        "print(a.intersection(b))"
      ],
      "metadata": {
        "colab": {
          "base_uri": "https://localhost:8080/"
        },
        "id": "ZtELMHXgMBhD",
        "outputId": "12258a1e-6bb0-461c-c501-a3c2635eb5f1"
      },
      "execution_count": null,
      "outputs": [
        {
          "output_type": "stream",
          "name": "stdout",
          "text": [
            "{2, 3}\n"
          ]
        }
      ]
    },
    {
      "cell_type": "code",
      "source": [
        "\n",
        "#21. Write a code to create a dictionary with the keys \"name\", \"age\", and \"city\", and print it.\n",
        "person = {'name': 'John', 'age': 25, 'city': 'New York'}\n",
        "print(person)"
      ],
      "metadata": {
        "colab": {
          "base_uri": "https://localhost:8080/"
        },
        "id": "oh8lpzF_MBjt",
        "outputId": "b78a4e75-70d7-4629-9b13-aa8f43d6ab4e"
      },
      "execution_count": null,
      "outputs": [
        {
          "output_type": "stream",
          "name": "stdout",
          "text": [
            "{'name': 'John', 'age': 25, 'city': 'New York'}\n"
          ]
        }
      ]
    },
    {
      "cell_type": "code",
      "source": [
        "#22. Write a code to add a new key-value pair \"country\": \"USA\" to the dictionary {'name': 'John', 'age': 25}.\n",
        "person = {'name': 'John', 'age': 25}\n",
        "person['country'] = 'USA'\n",
        "print(person)"
      ],
      "metadata": {
        "colab": {
          "base_uri": "https://localhost:8080/"
        },
        "id": "MrSzYIbAMBm4",
        "outputId": "21434b4f-dcbf-441e-b724-7b41c74a121c"
      },
      "execution_count": null,
      "outputs": [
        {
          "output_type": "stream",
          "name": "stdout",
          "text": [
            "{'name': 'John', 'age': 25, 'country': 'USA'}\n"
          ]
        }
      ]
    },
    {
      "cell_type": "code",
      "source": [
        "#23.Write a code to access the value associated with the key \"name\" in the dictionary {'name': 'Alice', 'age': 30}.\n",
        "d = {'name': 'Alice', 'age': 30}\n",
        "print(d['name'])"
      ],
      "metadata": {
        "colab": {
          "base_uri": "https://localhost:8080/"
        },
        "id": "gKcQ06QeMBp6",
        "outputId": "288ccdaa-015f-48a2-8db4-8a2627069ab6"
      },
      "execution_count": null,
      "outputs": [
        {
          "output_type": "stream",
          "name": "stdout",
          "text": [
            "Alice\n"
          ]
        }
      ]
    },
    {
      "cell_type": "code",
      "source": [
        "#24.Write a code to remove the key \"age\" from the dictionary {'name': 'Bob', 'age': 22, 'city': 'New York'}.\n",
        "d = {'name': 'Bob', 'age': 22, 'city': 'New York'}\n",
        "print(d['age'])\n"
      ],
      "metadata": {
        "colab": {
          "base_uri": "https://localhost:8080/"
        },
        "id": "ic3DxYJlMBsm",
        "outputId": "220ac82f-b950-4289-ffd5-417daf50255a"
      },
      "execution_count": null,
      "outputs": [
        {
          "output_type": "stream",
          "name": "stdout",
          "text": [
            "22\n"
          ]
        }
      ]
    },
    {
      "cell_type": "code",
      "source": [
        "#25.Write a code to check if the key \"city\" exists in the dictionary {'name': 'Alice', 'city': 'Paris'}.\n",
        "data = {'name': 'Alice', 'city': 'Paris'}\n",
        "print('city' in data)"
      ],
      "metadata": {
        "colab": {
          "base_uri": "https://localhost:8080/"
        },
        "id": "oU7uAQ8AMBvj",
        "outputId": "518ec86b-3cf5-45e3-f984-20aa2cc5e599"
      },
      "execution_count": null,
      "outputs": [
        {
          "output_type": "stream",
          "name": "stdout",
          "text": [
            "True\n"
          ]
        }
      ]
    },
    {
      "cell_type": "code",
      "source": [
        "#26.Write a code to create a list, a tuple, and a dictionary, and print them all\n",
        "my_list = [1, 2, 3]\n",
        "my_tuple = (4, 5, 6)\n",
        "my_dict = {'a': 10, 'b': 20}\n",
        "print(my_list)\n",
        "print(my_tuple)\n",
        "print(my_dict)"
      ],
      "metadata": {
        "colab": {
          "base_uri": "https://localhost:8080/"
        },
        "id": "Tbjiz1c9MByj",
        "outputId": "354b5030-5de7-44f4-8901-f3e7ec098cd5"
      },
      "execution_count": null,
      "outputs": [
        {
          "output_type": "stream",
          "name": "stdout",
          "text": [
            "[1, 2, 3]\n",
            "(4, 5, 6)\n",
            "{'a': 10, 'b': 20}\n"
          ]
        }
      ]
    },
    {
      "cell_type": "code",
      "source": [
        "#27.Write a code to create a list of 5 random numbers between 1 and 100, sort it in ascending order, and print the result.(replaced)\n",
        "import random\n",
        "numbers = random.sample(range(1, 101), 5)\n",
        "numbers.sort()\n",
        "print(numbers)"
      ],
      "metadata": {
        "colab": {
          "base_uri": "https://localhost:8080/"
        },
        "id": "ZOA3cDIKMB1_",
        "outputId": "d8f3de26-f866-4681-f06c-4042feb50baa"
      },
      "execution_count": null,
      "outputs": [
        {
          "output_type": "stream",
          "name": "stdout",
          "text": [
            "[3, 6, 12, 33, 73]\n"
          ]
        }
      ]
    },
    {
      "cell_type": "code",
      "source": [
        "\n",
        "#28. Write a code to create a list with strings and print the element at the third index\n",
        "words = ['apple', 'banana', 'cherry', 'date', 'fig']\n",
        "print(words[3])"
      ],
      "metadata": {
        "colab": {
          "base_uri": "https://localhost:8080/"
        },
        "id": "0mmUXpTeMB75",
        "outputId": "4d14f002-e51f-469b-e64d-523ea7ef9a4d"
      },
      "execution_count": null,
      "outputs": [
        {
          "output_type": "stream",
          "name": "stdout",
          "text": [
            "date\n"
          ]
        }
      ]
    },
    {
      "cell_type": "code",
      "source": [
        "#29. Write a code to combine two dictionaries into one and print the result.\n",
        "dict1 = {'a': 1, 'b': 2}\n",
        "dict2 = {'c': 3, 'd': 4}\n",
        "combined = {**dict1, **dict2}\n",
        "print(combined)"
      ],
      "metadata": {
        "colab": {
          "base_uri": "https://localhost:8080/"
        },
        "id": "NOJUpa6pLq-u",
        "outputId": "1331ae46-5ef2-4d9c-d8ef-67ef638ffc94"
      },
      "execution_count": null,
      "outputs": [
        {
          "output_type": "stream",
          "name": "stdout",
          "text": [
            "{'a': 1, 'b': 2, 'c': 3, 'd': 4}\n"
          ]
        }
      ]
    },
    {
      "cell_type": "code",
      "source": [
        "\n",
        "#30.Write a code to convert a list of strings into a set\n",
        "fruits = ['apple', 'banana', 'cherry', 'banana']\n",
        "fruit_set = set(fruits)\n",
        "print(fruit_set)"
      ],
      "metadata": {
        "id": "xAdzA5cOMkb3",
        "outputId": "8954b15c-9f9f-4f5f-da28-91238a7e839d",
        "colab": {
          "base_uri": "https://localhost:8080/"
        }
      },
      "execution_count": null,
      "outputs": [
        {
          "output_type": "stream",
          "name": "stdout",
          "text": [
            "{'cherry', 'banana', 'apple'}\n"
          ]
        }
      ]
    }
  ]
}